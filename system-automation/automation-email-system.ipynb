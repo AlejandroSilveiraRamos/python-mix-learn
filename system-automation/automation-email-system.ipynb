{
 "cells": [
  {
   "cell_type": "markdown",
   "metadata": {},
   "source": [
    "# System and Process Automation with Python\n",
    "\n",
    "### Challenge:\n",
    "\n",
    "Every day, our system updates the previous day's sales.\n",
    "Your daily job, as an analyst, is to send an e-mail to the board, as soon as you start working, with the invoicing and the amount of products sold the previous day\n",
    "\n",
    "E-mail of principal: seugmail+diretoria@gmail.com<br>\n",
    "Place where the system makes the previous day's sales available:https://drive.google.com/drive/folders/149xknr9JvrlEnhNWO49zPcw0PW5icxga?usp=sharing\n",
    "\n",
    "To solve this, we will use pyautogui, a library for automating mouse and keyboard commands"
   ]
  },
  {
   "cell_type": "code",
   "execution_count": 5,
   "metadata": {},
   "outputs": [],
   "source": [
    "import pyautogui\n",
    "import pyperclip\n",
    "import time\n",
    "\n",
    "pyautogui.PAUSE = 1\n",
    "\n",
    "# 1 - Log into the company system (drive)\n",
    "pyautogui.hotkey(\"ctrl\", \"t\")\n",
    "pyperclip.copy(\"https://drive.google.com/drive/folders/149xknr9JvrlEnhNWO49zPcw0PW5icxga?usp=sharing\")\n",
    "pyautogui.hotkey(\"ctrl\", \"v\")\n",
    "pyautogui.press(\"enter\") #Button keyBoard\n",
    "\n",
    "time.sleep(3)\n",
    "\n",
    "# 2 - Navigate the system until you find the database\n",
    "pyautogui.click(x=351, y=279, clicks=2)\n",
    "time.sleep(2)\n",
    "\n",
    "# 3 - Export the sales base\n",
    "pyautogui.click(x=376, y=329)\n",
    "pyautogui.click(x=1161, y=162)\n",
    "pyautogui.click(x=911, y=530, clicks=2)\n",
    "time.sleep(5)\n",
    "\n"
   ]
  },
  {
   "cell_type": "markdown",
   "metadata": {},
   "source": [
    "### We will now read the downloaded file to get the indicators\n",
    "\n",
    "- Billing\n",
    "- Quantity of Products"
   ]
  },
  {
   "cell_type": "code",
   "execution_count": 3,
   "metadata": {
    "scrolled": true
   },
   "outputs": [
    {
     "data": {
      "text/html": [
       "<div>\n",
       "<style scoped>\n",
       "    .dataframe tbody tr th:only-of-type {\n",
       "        vertical-align: middle;\n",
       "    }\n",
       "\n",
       "    .dataframe tbody tr th {\n",
       "        vertical-align: top;\n",
       "    }\n",
       "\n",
       "    .dataframe thead th {\n",
       "        text-align: right;\n",
       "    }\n",
       "</style>\n",
       "<table border=\"1\" class=\"dataframe\">\n",
       "  <thead>\n",
       "    <tr style=\"text-align: right;\">\n",
       "      <th></th>\n",
       "      <th>Sales Code</th>\n",
       "      <th>Data</th>\n",
       "      <th>ID Store</th>\n",
       "      <th>Product</th>\n",
       "      <th>Quantity</th>\n",
       "      <th>Unit Price</th>\n",
       "      <th>Final Price</th>\n",
       "    </tr>\n",
       "  </thead>\n",
       "  <tbody>\n",
       "    <tr>\n",
       "      <th>0</th>\n",
       "      <td>65014</td>\n",
       "      <td>2019-12-01</td>\n",
       "      <td>Shopping Morumbi</td>\n",
       "      <td>Sunga Listrado</td>\n",
       "      <td>5</td>\n",
       "      <td>114</td>\n",
       "      <td>570</td>\n",
       "    </tr>\n",
       "    <tr>\n",
       "      <th>1</th>\n",
       "      <td>65014</td>\n",
       "      <td>2019-12-01</td>\n",
       "      <td>Shopping Morumbi</td>\n",
       "      <td>Casaco Listrado</td>\n",
       "      <td>1</td>\n",
       "      <td>269</td>\n",
       "      <td>269</td>\n",
       "    </tr>\n",
       "    <tr>\n",
       "      <th>2</th>\n",
       "      <td>65016</td>\n",
       "      <td>2019-12-01</td>\n",
       "      <td>Iguatemi Campinas</td>\n",
       "      <td>Sapato Listrado</td>\n",
       "      <td>2</td>\n",
       "      <td>363</td>\n",
       "      <td>726</td>\n",
       "    </tr>\n",
       "    <tr>\n",
       "      <th>3</th>\n",
       "      <td>65016</td>\n",
       "      <td>2019-12-01</td>\n",
       "      <td>Iguatemi Campinas</td>\n",
       "      <td>Casaco</td>\n",
       "      <td>1</td>\n",
       "      <td>250</td>\n",
       "      <td>250</td>\n",
       "    </tr>\n",
       "    <tr>\n",
       "      <th>4</th>\n",
       "      <td>65017</td>\n",
       "      <td>2019-12-01</td>\n",
       "      <td>Shopping SP Market</td>\n",
       "      <td>Gorro Liso</td>\n",
       "      <td>3</td>\n",
       "      <td>92</td>\n",
       "      <td>276</td>\n",
       "    </tr>\n",
       "    <tr>\n",
       "      <th>...</th>\n",
       "      <td>...</td>\n",
       "      <td>...</td>\n",
       "      <td>...</td>\n",
       "      <td>...</td>\n",
       "      <td>...</td>\n",
       "      <td>...</td>\n",
       "      <td>...</td>\n",
       "    </tr>\n",
       "    <tr>\n",
       "      <th>7084</th>\n",
       "      <td>69996</td>\n",
       "      <td>2019-12-26</td>\n",
       "      <td>Center Shopping Uberlândia</td>\n",
       "      <td>Short Listrado</td>\n",
       "      <td>2</td>\n",
       "      <td>102</td>\n",
       "      <td>204</td>\n",
       "    </tr>\n",
       "    <tr>\n",
       "      <th>7085</th>\n",
       "      <td>69996</td>\n",
       "      <td>2019-12-26</td>\n",
       "      <td>Center Shopping Uberlândia</td>\n",
       "      <td>Mochila</td>\n",
       "      <td>4</td>\n",
       "      <td>270</td>\n",
       "      <td>1080</td>\n",
       "    </tr>\n",
       "    <tr>\n",
       "      <th>7086</th>\n",
       "      <td>69996</td>\n",
       "      <td>2019-12-26</td>\n",
       "      <td>Center Shopping Uberlândia</td>\n",
       "      <td>Pulseira Estampa</td>\n",
       "      <td>1</td>\n",
       "      <td>87</td>\n",
       "      <td>87</td>\n",
       "    </tr>\n",
       "    <tr>\n",
       "      <th>7087</th>\n",
       "      <td>69997</td>\n",
       "      <td>2019-12-26</td>\n",
       "      <td>Ribeirão Shopping</td>\n",
       "      <td>Camisa Listrado</td>\n",
       "      <td>1</td>\n",
       "      <td>108</td>\n",
       "      <td>108</td>\n",
       "    </tr>\n",
       "    <tr>\n",
       "      <th>7088</th>\n",
       "      <td>69997</td>\n",
       "      <td>2019-12-26</td>\n",
       "      <td>Ribeirão Shopping</td>\n",
       "      <td>Short Linho</td>\n",
       "      <td>2</td>\n",
       "      <td>133</td>\n",
       "      <td>266</td>\n",
       "    </tr>\n",
       "  </tbody>\n",
       "</table>\n",
       "<p>7089 rows × 7 columns</p>\n",
       "</div>"
      ],
      "text/plain": [
       "      Sales Code       Data                    ID Store           Product  \\\n",
       "0          65014 2019-12-01            Shopping Morumbi    Sunga Listrado   \n",
       "1          65014 2019-12-01            Shopping Morumbi   Casaco Listrado   \n",
       "2          65016 2019-12-01           Iguatemi Campinas   Sapato Listrado   \n",
       "3          65016 2019-12-01           Iguatemi Campinas            Casaco   \n",
       "4          65017 2019-12-01          Shopping SP Market        Gorro Liso   \n",
       "...          ...        ...                         ...               ...   \n",
       "7084       69996 2019-12-26  Center Shopping Uberlândia    Short Listrado   \n",
       "7085       69996 2019-12-26  Center Shopping Uberlândia           Mochila   \n",
       "7086       69996 2019-12-26  Center Shopping Uberlândia  Pulseira Estampa   \n",
       "7087       69997 2019-12-26           Ribeirão Shopping   Camisa Listrado   \n",
       "7088       69997 2019-12-26           Ribeirão Shopping       Short Linho   \n",
       "\n",
       "      Quantity  Unit Price  Final Price  \n",
       "0            5         114          570  \n",
       "1            1         269          269  \n",
       "2            2         363          726  \n",
       "3            1         250          250  \n",
       "4            3          92          276  \n",
       "...        ...         ...          ...  \n",
       "7084         2         102          204  \n",
       "7085         4         270         1080  \n",
       "7086         1          87           87  \n",
       "7087         1         108          108  \n",
       "7088         2         133          266  \n",
       "\n",
       "[7089 rows x 7 columns]"
      ]
     },
     "metadata": {},
     "output_type": "display_data"
    },
    {
     "data": {
      "text/plain": [
       "15227"
      ]
     },
     "metadata": {},
     "output_type": "display_data"
    },
    {
     "data": {
      "text/plain": [
       "2917311"
      ]
     },
     "metadata": {},
     "output_type": "display_data"
    }
   ],
   "source": [
    "# 4 - Calculate the indicators (invoicing and quantity of products sold)\n",
    "\n",
    "import pandas as pd\n",
    "\n",
    "chart = pd.read_excel(\"Sales Dec.xlsx\")\n",
    "display(chart)\n",
    "\n",
    "quantity = chart[\"Quantity\"].sum()\n",
    "billing = chart[\"Final Price\"].sum()\n",
    "\n",
    "display(quantity)\n",
    "display(billing)\n"
   ]
  },
  {
   "cell_type": "markdown",
   "metadata": {},
   "source": [
    "### Now let's send Email through Gmail"
   ]
  },
  {
   "cell_type": "code",
   "execution_count": 6,
   "metadata": {},
   "outputs": [],
   "source": [
    "# 5 - Send an e-mail to the board with the indicators\n",
    "    # Enter without e-mail\n",
    "pyautogui.hotkey(\"ctrl\", \"t\")\n",
    "pyperclip.copy(\"https://mail.google.com/mail/u/0/#inbox\")\n",
    "pyautogui.hotkey(\"ctrl\", \"v\")\n",
    "pyautogui.press(\"enter\") \n",
    "time.sleep(5)\n",
    "\n",
    "    # Click on write button\n",
    "pyautogui.click(x=29, y=167)\n",
    "time.sleep(3)\n",
    "\n",
    "    # Write to recipient\n",
    "pyautogui.write(\"alejandrosilveira@gmail.com\")\n",
    "pyautogui.press(\"tab\")\n",
    "\n",
    "    # Write the subject\n",
    "pyautogui.press(\"tab\")\n",
    "pyperclip.copy(\"Relatório de Vendas\")\n",
    "pyautogui.hotkey(\"ctrl\", \"v\")\n",
    "                \n",
    "    # Write the body of the email\n",
    "pyautogui.press(\"tab\")\n",
    "texto = f\"\"\"\n",
    "\n",
    "Good moorning\n",
    "\n",
    "the turnover was R$ {billing:,.2f}\n",
    "the sales were {quantity:,}\n",
    "\n",
    "Abs.\n",
    "\n",
    "\"\"\"\n",
    "pyperclip.copy(texto)\n",
    "pyautogui.hotkey(\"ctrl\", \"v\")\n",
    "    # Send email\n",
    "pyautogui.hotkey(\"ctrl\", \"enter\")\n"
   ]
  },
  {
   "cell_type": "markdown",
   "metadata": {},
   "source": [
    "#### Use this code to find out the position of an item you want to click on"
   ]
  },
  {
   "cell_type": "code",
   "execution_count": 15,
   "metadata": {},
   "outputs": [
    {
     "data": {
      "text/plain": [
       "Point(x=859, y=316)"
      ]
     },
     "execution_count": 15,
     "metadata": {},
     "output_type": "execute_result"
    }
   ],
   "source": [
    "# Find out position with mouse position\n",
    "time.sleep(5)\n",
    "pyautogui.position()\n"
   ]
  },
  {
   "cell_type": "code",
   "execution_count": null,
   "metadata": {},
   "outputs": [],
   "source": []
  }
 ],
 "metadata": {
  "kernelspec": {
   "display_name": "Python 3 (ipykernel)",
   "language": "python",
   "name": "python3"
  },
  "language_info": {
   "codemirror_mode": {
    "name": "ipython",
    "version": 3
   },
   "file_extension": ".py",
   "mimetype": "text/x-python",
   "name": "python",
   "nbconvert_exporter": "python",
   "pygments_lexer": "ipython3",
   "version": "3.9.7"
  }
 },
 "nbformat": 4,
 "nbformat_minor": 4
}
